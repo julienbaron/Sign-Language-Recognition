{
 "cells": [
  {
   "cell_type": "markdown",
   "metadata": {},
   "source": [
    "## Installation"
   ]
  },
  {
   "cell_type": "code",
   "execution_count": 1,
   "metadata": {},
   "outputs": [],
   "source": [
    "#pip install openpyxl"
   ]
  },
  {
   "cell_type": "markdown",
   "metadata": {},
   "source": [
    "## Import "
   ]
  },
  {
   "cell_type": "code",
   "execution_count": null,
   "metadata": {},
   "outputs": [],
   "source": [
    "import cv2\n",
    "import os.path\n",
    "import sys\n",
    "from pathlib import Path\n",
    "import time \n",
    "import numpy as np \n",
    "import matplotlib.pyplot as plt\n",
    "from PIL import Image\n",
    "import math\n",
    "from openpyxl import Workbook\n",
    "from openpyxl import load_workbook\n",
    "import pandas as pd \n",
    "#import uuid"
   ]
  },
  {
   "cell_type": "markdown",
   "metadata": {},
   "source": [
    "## Use right data sets  "
   ]
  },
  {
   "cell_type": "code",
   "execution_count": null,
   "metadata": {},
   "outputs": [],
   "source": [
    "labels = ['Lundi']\n",
    "full_List_coordonate = []"
   ]
  },
  {
   "cell_type": "code",
   "execution_count": null,
   "metadata": {},
   "outputs": [],
   "source": [
    "#If the project does not contain an image file \n",
    "if not os.path.exists('images'):\n",
    "    os.makedirs('images')\n",
    "    for label in labels:\n",
    "        os.makedirs('images\\{}'.format(label))\n",
    "elif not os.path.exists('DataSet.xlsx'):\n",
    "    wb = Workbook()\n",
    "    ws = wb.active\n",
    "    \n",
    "    ws['A1'] = 'NameMouv'\n",
    "    ws['B1'] = 'SerieID'\n",
    "    ws['C1'] = 'X'\n",
    "    ws['D1'] = 'Y'\n",
    "    ws['E1'] = 'Vector_X'\n",
    "    ws['F1'] = 'Vector_Y'\n",
    "    \n",
    "    wb.save(filename = 'DataSet.xlsx')\n",
    "    \n",
    "else:\n",
    "    pass"
   ]
  },
  {
   "cell_type": "code",
   "execution_count": null,
   "metadata": {},
   "outputs": [],
   "source": [
    "def convertArrayToImage(array):\n",
    "    w, h = 512, 512\n",
    "    data = np.zeros((h, w, 3), dtype=np.uint8)\n",
    "    data[0:256, 0:256] = [255, 0, 0] # red patch in upper left\n",
    "    img = Image.fromarray(array, 'RGB')\n",
    "    img.save('my.png')\n",
    "    img.show()"
   ]
  },
  {
   "cell_type": "code",
   "execution_count": null,
   "metadata": {},
   "outputs": [],
   "source": [
    "#Hand \n",
    "class Hand(object):\n",
    "    def __init__(self, frame, contouring):\n",
    "        self.frame = frame \n",
    "        self.contouring = contouring\n",
    "        self.contours = []\n",
    "        self.outline = self.draw_outline()  \n",
    "        \n",
    "    \n",
    "    def draw_outline(self, min_area=10000, color=(0, 255, 0), thickness=2):\n",
    "        #find contour \n",
    "        contours,_  = cv2.findContours(self.contouring, cv2.RETR_TREE, cv2.CHAIN_APPROX_SIMPLE)\n",
    "        palm_area = 0\n",
    "        flag = None\n",
    "        cnt = None\n",
    "        for (i, c) in enumerate(contours):\n",
    "            area = cv2.contourArea(c)\n",
    "            if area > palm_area:\n",
    "                palm_area = area\n",
    "                flag = i\n",
    "        if flag is not None and palm_area > min_area:\n",
    "            cnt = contours[flag]\n",
    "            self.contours = cnt\n",
    "            cpy = self.frame.copy()\n",
    "            cv2.drawContours(cpy, [cnt], 0, color, thickness)\n",
    "            return cpy\n",
    "        else:\n",
    "            return self.frame\n",
    "    \n",
    "    def get_center_of_mass(self):\n",
    "        if len(self.contours) == 0:\n",
    "            return None\n",
    "        M = cv2.moments(self.contours)\n",
    "        cX = int(M[\"m10\"] / M[\"m00\"])\n",
    "        cY = int(M[\"m01\"] / M[\"m00\"])\n",
    "        return (cX, cY)\n",
    "    \n",
    "    "
   ]
  },
  {
   "cell_type": "code",
   "execution_count": null,
   "metadata": {},
   "outputs": [],
   "source": [
    "def focusBox(source = 0):\n",
    "    cap = cv2.VideoCapture(source)\n",
    "    color = (255, 0, 0)\n",
    "    while(True):\n",
    "        _,frame = cap.read()\n",
    "        frame = cv2.flip(frame, 1)\n",
    "        frame = cv2.resize(frame, (1000, 600))\n",
    "        cv2.rectangle(frame, (150,150), (220, 220), color, 2)\n",
    "        cv2.imshow('focusBox', frame)\n",
    "        box = frame[153:218, 153:218]\n",
    "        k = cv2.waitKey(1)\n",
    "        if k%256 == 32:\n",
    "            #obj_color = cv2.imread('C:\\\\Users\\\\jujub\\\\CNN\\\\unnamed.jpg')\n",
    "            obj_color = box\n",
    "            break \n",
    "    obj_color_hsv = cv2.cvtColor(obj_color, cv2.COLOR_BGR2HSV)\n",
    "    # calculating object histogram\n",
    "    obj_hist = cv2.calcHist([obj_color_hsv], [0, 1], None,\n",
    "                               [180, 256], [0, 180, 0, 256])\n",
    "    #Normalize histogram\n",
    "    cv2.normalize(obj_hist, obj_hist, 0, 255, cv2.NORM_MINMAX)     \n",
    "    cv2.destroyAllWindows()\n",
    "    cap.release()\n",
    "    return obj_hist\n",
    "\n",
    "def track_object(frame, obj_hist):\n",
    "    frame_color = cv2.cvtColor(frame, cv2.COLOR_BGR2HSV)\n",
    "    dst = cv2.calcBackProject([frame_color],[0,1],obj_hist,[0,180,0,256],1)\n",
    "    # Now convolute with circular disc\n",
    "    disc = cv2.getStructuringElement(cv2.MORPH_ELLIPSE,(9, 9))\n",
    "    cv2.filter2D(dst,-1,disc,dst)\n",
    "    ret, tresh = cv2.threshold(dst, 0, 256, cv2.THRESH_BINARY)\n",
    "    kernel = None\n",
    "    eroded = cv2.erode(tresh, kernel, iterations=2)\n",
    "    dilated = cv2.dilate(eroded, kernel, iterations=2)\n",
    "    closing = cv2.morphologyEx(dilated, cv2.MORPH_CLOSE, kernel)\n",
    "    return closing\n",
    "    \n",
    "def detect_hand(frame, hist):\n",
    "    contouring = track_object(frame, hist)\n",
    "    return Hand(frame, contouring)\n",
    "\n",
    "def detect_face(frame, block=False, colour=(0, 0, 0)):\n",
    "    fill = [1, -1][block]\n",
    "    face_cascade = cv2.CascadeClassifier(\n",
    "        cv2.data.haarcascades + 'haarcascade_frontalface_default.xml')\n",
    "\n",
    "    gray = cv2.cvtColor(frame, cv2.COLOR_BGR2GRAY)\n",
    "    faces = face_cascade.detectMultiScale(gray, 1.1, 5)\n",
    "    area = 0\n",
    "    X = Y = W = H = 0\n",
    "    for (x, y, w, h) in faces:\n",
    "        if w * h > area:\n",
    "            area = w * h\n",
    "            X, Y, W, H = x, y, w, h\n",
    "    cv2.rectangle(frame, (X, Y), (X + W, Y + H), colour, fill)"
   ]
  },
  {
   "cell_type": "code",
   "execution_count": null,
   "metadata": {},
   "outputs": [],
   "source": [
    "#saved the data in an excel file\n",
    "def record_coordonate(temp_list_coordonate, label, numvid, full_List_coordonate):\n",
    "    count = 0\n",
    "    Name_Mouv = label+'_'+ str(numvid)\n",
    "    #dict_coordonate[label] = {} if dict_coordonate.get(label) is None else dict_coordonate\n",
    "    #dict_coordonate if key_second in dict_coordonate[label] else dict_coordonate[label][key_second] = []\n",
    "#     if key_second not in dict_coordonate[label]:\n",
    "#         dict_coordonate[label][key_second] = []\n",
    "    for cor in temp_list_coordonate:\n",
    "        if not isinstance(cor, type(None)):\n",
    "            list_cor = list(cor)\n",
    "            list_cor.append(count)\n",
    "            list_cor.append(Name_Mouv)\n",
    "            cor = tuple(list_cor)\n",
    "            full_List_coordonate.append(cor)\n",
    "            count += 1 \n",
    "    return full_List_coordonate"
   ]
  },
  {
   "cell_type": "code",
   "execution_count": null,
   "metadata": {
    "scrolled": true
   },
   "outputs": [],
   "source": [
    "def videoCapture(labels,  full_List_coordonate, createData = False):\n",
    "    hist = focusBox()\n",
    "    if createData == True:\n",
    "        temp_list_coordonate = []\n",
    "        cap = cv2.VideoCapture(0)\n",
    "        fourcc = cv2.VideoWriter_fourcc(*'XVID')\n",
    "        capture_duration = 4 + 3\n",
    "        num_video = 2\n",
    "        for label in labels: \n",
    "            print('collecting for {}'.format(label))\n",
    "            save_path = \"path\".format(label)\n",
    "            #print(save_path)\n",
    "            for numvid in range(num_video):\n",
    "                start_time = time.time()\n",
    "                file_name = label + '_' + str(numvid)+'.mp4'\n",
    "                save_path = save_path + file_name\n",
    "                out = cv2.VideoWriter(save_path,fourcc, 20.0, (640,480))\n",
    "                count = 0 \n",
    "                while(int(time.time() - start_time) < capture_duration ):\n",
    "                    re,frames = cap.read()\n",
    "                    hand = detect_hand(frames, hist)\n",
    "                    if re == True:\n",
    "                        frames = detect_face(frames, block=True)\n",
    "                        frames = hand.draw_outline()\n",
    "                        com = hand.get_center_of_mass()\n",
    "                        if com:\n",
    "                            frames = cv2.circle(hand.outline , com, 10, (255, 0, 0), -1)\n",
    "                        temp_list_coordonate.append(com)\n",
    "                        cv2.imshow('frame', frames)\n",
    "                        out.write(frames)\n",
    "                        count += 1 \n",
    "                        k = cv2.waitKey(5)\n",
    "                        # Press 'q' to exit\n",
    "                        if k == ord('q'):\n",
    "                            break \n",
    "                    else:\n",
    "                        break\n",
    "                if save_path:\n",
    "                    save_path = save_path.rpartition('\\\\')[0]+save_path.rpartition('\\\\')[1]\n",
    "                full_List_coordonate = record_coordonate(temp_list_coordonate, label, numvid, full_List_coordonate)\n",
    "                temp_list_coordonate.clear()\n",
    "                #print(full_List_coordonate)\n",
    "                #print(temp_list_coordonate)\n",
    "        # When everything done, release the capture\n",
    "        cap.release()\n",
    "        out.release()\n",
    "        cv2.destroyAllWindows()\n",
    "    else:\n",
    "        pass \n",
    "    return full_List_coordonate"
   ]
  },
  {
   "cell_type": "code",
   "execution_count": null,
   "metadata": {
    "scrolled": false
   },
   "outputs": [],
   "source": [
    "full_List_coordonate = videoCapture(labels, full_List_coordonate, createData = True)"
   ]
  },
  {
   "cell_type": "code",
   "execution_count": null,
   "metadata": {},
   "outputs": [],
   "source": [
    "def saveDataSet(full_List_coordonate):\n",
    "    wb = load_workbook('DataSet.xlsx')\n",
    "    ws = wb['Sheet']\n",
    "    row = ws.max_row + 1\n",
    "    col = 1\n",
    "\n",
    "    for x , y, serieid, namemouv in full_List_coordonate:\n",
    "        ws.cell(row= row, column= col).value = namemouv\n",
    "        ws.cell(row= row, column= col+1).value = serieid\n",
    "        ws.cell(row= row, column= col+2).value = x\n",
    "        ws.cell(row= row, column= col+3).value = y\n",
    "        row += 1 \n",
    "    \n",
    "    wb.save('DataSet.xlsx')\n",
    "\n",
    "def addVector(df):\n",
    "    book = load_workbook('DataSet.xlsx')\n",
    "    ws = book['Sheet']\n",
    "    dfVector = df[[\"Vector_X\", \"Vector_Y\"]]\n",
    "    writer = pd.ExcelWriter('DataSet.xlsx', engine = 'openpyxl')\n",
    "    writer.book  = book\n",
    "    max_row = max((c.row for c in ws['C'] if c.value is not None))\n",
    "    dfVector.to_excel(writer, sheet_name = 'Sheet', startrow = max_row, \n",
    "                      columns = [\"Vector_X\", \"Vector_Y\"], index = False,header= False)\n",
    "    writer.save()"
   ]
  },
  {
   "cell_type": "code",
   "execution_count": null,
   "metadata": {},
   "outputs": [],
   "source": [
    "def createVector(df):\n",
    "    #listMouv = list(dict.fromkeys(df['NameMouv']))\n",
    "    grouped = df.groupby('NameMouv')\n",
    "    diff_vectorx = lambda x: x['X'].diff()\n",
    "    diff_vectory = lambda x: x['Y'].diff()\n",
    "    df['Vector_X'] = grouped.apply(diff_vectorx).reset_index(0, drop=True)\n",
    "    df['Vector_Y'] = grouped.apply(diff_vectory).reset_index(0, drop=True)\n",
    "    return df"
   ]
  },
  {
   "cell_type": "code",
   "execution_count": null,
   "metadata": {},
   "outputs": [],
   "source": [
    "saveDataSet(full_List_coordonate)\n",
    "dt = pd.read_excel('DataSet.xlsx',dtype={'NameMouv' : str, \n",
    "                  'SerieID' : int ,'X': int, 'Y': int })\n",
    "df = pd.DataFrame(dt)\n",
    "df = createVector(df)"
   ]
  },
  {
   "cell_type": "code",
   "execution_count": null,
   "metadata": {},
   "outputs": [],
   "source": [
    "addVector(df)"
   ]
  },
  {
   "cell_type": "code",
   "execution_count": null,
   "metadata": {},
   "outputs": [],
   "source": [
    "# for i in dict_coordonate.keys():\n",
    "#     print(i)\n",
    "    \n",
    "# print(dict_coordonate[i])\n",
    "\n",
    "# df_coordonate = storeInDataframe(dict_coordonate)"
   ]
  },
  {
   "cell_type": "code",
   "execution_count": null,
   "metadata": {},
   "outputs": [],
   "source": []
  },
  {
   "cell_type": "code",
   "execution_count": null,
   "metadata": {},
   "outputs": [],
   "source": []
  },
  {
   "cell_type": "code",
   "execution_count": null,
   "metadata": {},
   "outputs": [],
   "source": []
  }
 ],
 "metadata": {
  "kernelspec": {
   "display_name": "Python 3",
   "language": "python",
   "name": "python3"
  },
  "language_info": {
   "codemirror_mode": {
    "name": "ipython",
    "version": 3
   },
   "file_extension": ".py",
   "mimetype": "text/x-python",
   "name": "python",
   "nbconvert_exporter": "python",
   "pygments_lexer": "ipython3",
   "version": "3.7.6"
  }
 },
 "nbformat": 4,
 "nbformat_minor": 4
}
