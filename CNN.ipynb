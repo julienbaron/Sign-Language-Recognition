{
 "cells": [
  {
   "cell_type": "markdown",
   "metadata": {},
   "source": [
    "## Installation"
   ]
  },
  {
   "cell_type": "code",
   "execution_count": 1,
   "metadata": {},
   "outputs": [],
   "source": [
    "#pip install tensorflow tensorflow_datasets"
   ]
  },
  {
   "cell_type": "markdown",
   "metadata": {},
   "source": [
    "## Import "
   ]
  },
  {
   "cell_type": "code",
   "execution_count": 2,
   "metadata": {},
   "outputs": [],
   "source": [
    "import cv2\n",
    "import os.path\n",
    "import sys\n",
    "from pathlib import Path\n",
    "import time \n",
    "#import uuid"
   ]
  },
  {
   "cell_type": "markdown",
   "metadata": {},
   "source": [
    "## Use right data sets  "
   ]
  },
  {
   "cell_type": "code",
   "execution_count": 3,
   "metadata": {},
   "outputs": [],
   "source": [
    "labels = ['Je', 'suis', 'amoureux']"
   ]
  },
  {
   "cell_type": "code",
   "execution_count": 4,
   "metadata": {},
   "outputs": [],
   "source": [
    "#If the project does not contain an image file \n",
    "if not os.path.exists('images'):\n",
    "    os.makedirs('images')\n",
    "    for label in labels:\n",
    "        os.makedirs('images\\{}'.format(label))\n",
    "    "
   ]
  },
  {
   "cell_type": "code",
   "execution_count": 5,
   "metadata": {},
   "outputs": [],
   "source": [
    "#Hand \n",
    "class Hand(object):\n",
    "    def __init__(self, frame, binary):\n",
    "        self.frame = frame \n",
    "        self.binary = binary\n",
    "        self.outline = self.draw_outline()\n",
    "        self.fingertips = self.extract_fingertips()\n",
    "    \n",
    "    def draw_outline(self):\n",
    "        pass\n",
    "    \n",
    "    def extract_fingertips(self):\n",
    "        pass\n",
    "    \n",
    "    def get_center_of_mass(self):\n",
    "        pass\n",
    "    \n",
    "    "
   ]
  },
  {
   "cell_type": "code",
   "execution_count": 6,
   "metadata": {},
   "outputs": [],
   "source": [
    "def detect_hand(frame, box):\n",
    "    pass\n",
    "\n",
    "def focusBox(self, source = 0):\n",
    "    pass \n"
   ]
  },
  {
   "cell_type": "code",
   "execution_count": 7,
   "metadata": {},
   "outputs": [],
   "source": [
    "def videoCapture(self, labels, createData = False):\n",
    "    if createData == True:\n",
    "        cap = cv2.VideoCapture(0)\n",
    "        fourcc = cv2.VideoWriter_fourcc(*'XVID')\n",
    "        capture_duration = 10 + 3\n",
    "        num_video = 2\n",
    "        for label in labels: \n",
    "            print('collecting for {}'.format(label))\n",
    "            save_path = \"#path\".format(label)+'\\\\'\n",
    "            for numvid in range(num_video):\n",
    "                start_time = time.time()\n",
    "                file_name = label + '_' + str(numvid)+'.mp4'\n",
    "                save_path = save_path + file_name\n",
    "                out = cv2.VideoWriter(save_path,fourcc, 20.0, (640,480))\n",
    "                while(int(time.time() - start_time) < capture_duration ):\n",
    "                    re,frame = cap.read()\n",
    "                    if re == True:\n",
    "                        cv2.imshow('frame', frame)\n",
    "                        out.write(frame)\n",
    "                        if cv2.waitKey(1) & 0xFF == ord('q'):\n",
    "                            break\n",
    "                    else:\n",
    "                        break\n",
    "                if save_path:\n",
    "                    save_path = save_path.rpartition('\\\\')[0]+save_path.rpartition('\\\\')[1]\n",
    "        # When everything done, release the capture\n",
    "        cap.release()\n",
    "        out.release()\n",
    "        cv2.destroyAllWindows()\n",
    "    else:\n",
    "        pass "
   ]
  },
  {
   "cell_type": "code",
   "execution_count": 8,
   "metadata": {},
   "outputs": [
    {
     "ename": "TypeError",
     "evalue": "videoCapture() missing 1 required positional argument: 'labels'",
     "output_type": "error",
     "traceback": [
      "\u001b[1;31m---------------------------------------------------------------------------\u001b[0m",
      "\u001b[1;31mTypeError\u001b[0m                                 Traceback (most recent call last)",
      "\u001b[1;32m<ipython-input-8-084182b8a21c>\u001b[0m in \u001b[0;36m<module>\u001b[1;34m\u001b[0m\n\u001b[1;32m----> 1\u001b[1;33m \u001b[0mvideoCapture\u001b[0m\u001b[1;33m(\u001b[0m\u001b[0mlabels\u001b[0m\u001b[1;33m,\u001b[0m \u001b[0mcreateData\u001b[0m \u001b[1;33m=\u001b[0m \u001b[1;32mTrue\u001b[0m\u001b[1;33m)\u001b[0m\u001b[1;33m\u001b[0m\u001b[1;33m\u001b[0m\u001b[0m\n\u001b[0m",
      "\u001b[1;31mTypeError\u001b[0m: videoCapture() missing 1 required positional argument: 'labels'"
     ]
    }
   ],
   "source": [
    "videoCapture(labels, createData = True)"
   ]
  }
 ],
 "metadata": {
  "kernelspec": {
   "display_name": "Python 3",
   "language": "python",
   "name": "python3"
  },
  "language_info": {
   "codemirror_mode": {
    "name": "ipython",
    "version": 3
   },
   "file_extension": ".py",
   "mimetype": "text/x-python",
   "name": "python",
   "nbconvert_exporter": "python",
   "pygments_lexer": "ipython3",
   "version": "3.7.6"
  }
 },
 "nbformat": 4,
 "nbformat_minor": 4
}
