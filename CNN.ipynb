{
 "cells": [
  {
   "cell_type": "markdown",
   "metadata": {},
   "source": [
    "## Installation"
   ]
  },
  {
   "cell_type": "code",
   "execution_count": 1,
   "metadata": {},
   "outputs": [],
   "source": [
    "#pip install XlsxWriter"
   ]
  },
  {
   "cell_type": "markdown",
   "metadata": {},
   "source": [
    "## Import "
   ]
  },
  {
   "cell_type": "code",
   "execution_count": 2,
   "metadata": {},
   "outputs": [],
   "source": [
    "import cv2\n",
    "import os.path\n",
    "import sys\n",
    "from pathlib import Path\n",
    "import time \n",
    "import numpy as np \n",
    "import matplotlib.pyplot as plt\n",
    "from PIL import Image\n",
    "import math\n",
    "import xlsxwriter\n",
    "#import uuid"
   ]
  },
  {
   "cell_type": "markdown",
   "metadata": {},
   "source": [
    "## Use right data sets  "
   ]
  },
  {
   "cell_type": "code",
   "execution_count": 3,
   "metadata": {},
   "outputs": [],
   "source": [
    "labels = ['Lundi']\n",
    "dict_coordonate = {}"
   ]
  },
  {
   "cell_type": "code",
   "execution_count": 4,
   "metadata": {},
   "outputs": [],
   "source": [
    "#If the project does not contain an image file \n",
    "if not os.path.exists('images'):\n",
    "    os.makedirs('images')\n",
    "    for label in labels:\n",
    "        os.makedirs('images\\{}'.format(label))\n",
    "elif not os.path.exists('test.xlsx'):\n",
    "    Create_workbook = xlsxwriter.Workbook('test.xlsx')\n",
    "    Create_workbook.add_worksheet()\n",
    "    Create_workbook.close() \n",
    "else:\n",
    "    pass"
   ]
  },
  {
   "cell_type": "code",
   "execution_count": 5,
   "metadata": {},
   "outputs": [],
   "source": [
    "def convertArrayToImage(array):\n",
    "    w, h = 512, 512\n",
    "    data = np.zeros((h, w, 3), dtype=np.uint8)\n",
    "    data[0:256, 0:256] = [255, 0, 0] # red patch in upper left\n",
    "    img = Image.fromarray(array, 'RGB')\n",
    "    img.save('my.png')\n",
    "    img.show()"
   ]
  },
  {
   "cell_type": "code",
   "execution_count": 6,
   "metadata": {},
   "outputs": [],
   "source": [
    "#Hand \n",
    "class Hand(object):\n",
    "    def __init__(self, frame, contouring):\n",
    "        self.frame = frame \n",
    "        self.contouring = contouring\n",
    "        self.contours = []\n",
    "        self.outline = self.draw_outline()  \n",
    "        \n",
    "    \n",
    "    def draw_outline(self, min_area=10000, color=(0, 255, 0), thickness=2):\n",
    "        #find contour \n",
    "        contours,_  = cv2.findContours(self.contouring, cv2.RETR_TREE, cv2.CHAIN_APPROX_SIMPLE)\n",
    "        palm_area = 0\n",
    "        flag = None\n",
    "        cnt = None\n",
    "        for (i, c) in enumerate(contours):\n",
    "            area = cv2.contourArea(c)\n",
    "            if area > palm_area:\n",
    "                palm_area = area\n",
    "                flag = i\n",
    "        if flag is not None and palm_area > min_area:\n",
    "            cnt = contours[flag]\n",
    "            self.contours = cnt\n",
    "            cpy = self.frame.copy()\n",
    "            cv2.drawContours(cpy, [cnt], 0, color, thickness)\n",
    "            return cpy\n",
    "        else:\n",
    "            return self.frame\n",
    "    \n",
    "    def get_center_of_mass(self):\n",
    "        if len(self.contours) == 0:\n",
    "            return None\n",
    "        M = cv2.moments(self.contours)\n",
    "        cX = int(M[\"m10\"] / M[\"m00\"])\n",
    "        cY = int(M[\"m01\"] / M[\"m00\"])\n",
    "        return (cX, cY)\n",
    "    \n",
    "    "
   ]
  },
  {
   "cell_type": "code",
   "execution_count": 7,
   "metadata": {},
   "outputs": [],
   "source": [
    "def focusBox(source = 0):\n",
    "    cap = cv2.VideoCapture(source)\n",
    "    color = (255, 0, 0)\n",
    "    while(True):\n",
    "        _,frame = cap.read()\n",
    "        frame = cv2.flip(frame, 1)\n",
    "        frame = cv2.resize(frame, (1000, 600))\n",
    "        cv2.rectangle(frame, (150,150), (220, 220), color, 2)\n",
    "        cv2.imshow('focusBox', frame)\n",
    "        box = frame[153:218, 153:218]\n",
    "        k = cv2.waitKey(1)\n",
    "        if k%256 == 32:\n",
    "            #obj_color = cv2.imread('C:\\\\Users\\\\jujub\\\\CNN\\\\unnamed.jpg')\n",
    "            obj_color = box\n",
    "            break \n",
    "    obj_color_hsv = cv2.cvtColor(obj_color, cv2.COLOR_BGR2HSV)\n",
    "    # calculating object histogram\n",
    "    obj_hist = cv2.calcHist([obj_color_hsv], [0, 1], None,\n",
    "                               [180, 256], [0, 180, 0, 256])\n",
    "    #Normalize histogram\n",
    "    cv2.normalize(obj_hist, obj_hist, 0, 255, cv2.NORM_MINMAX)     \n",
    "    cv2.destroyAllWindows()\n",
    "    cap.release()\n",
    "    return obj_hist\n",
    "\n",
    "def track_object(frame, obj_hist):\n",
    "    frame_color = cv2.cvtColor(frame, cv2.COLOR_BGR2HSV)\n",
    "    dst = cv2.calcBackProject([frame_color],[0,1],obj_hist,[0,180,0,256],1)\n",
    "    # Now convolute with circular disc\n",
    "    disc = cv2.getStructuringElement(cv2.MORPH_ELLIPSE,(9, 9))\n",
    "    cv2.filter2D(dst,-1,disc,dst)\n",
    "    ret, tresh = cv2.threshold(dst, 0, 256, cv2.THRESH_BINARY)\n",
    "    kernel = None\n",
    "    eroded = cv2.erode(tresh, kernel, iterations=2)\n",
    "    dilated = cv2.dilate(eroded, kernel, iterations=2)\n",
    "    closing = cv2.morphologyEx(dilated, cv2.MORPH_CLOSE, kernel)\n",
    "    return closing\n",
    "    \n",
    "def detect_hand(frame, hist):\n",
    "    contouring = track_object(frame, hist)\n",
    "    return Hand(frame, contouring)\n",
    "\n",
    "def detect_face(frame, block=False, colour=(0, 0, 0)):\n",
    "    fill = [1, -1][block]\n",
    "    face_cascade = cv2.CascadeClassifier(\n",
    "        cv2.data.haarcascades + 'haarcascade_frontalface_default.xml')\n",
    "\n",
    "    gray = cv2.cvtColor(frame, cv2.COLOR_BGR2GRAY)\n",
    "    faces = face_cascade.detectMultiScale(gray, 1.1, 5)\n",
    "    area = 0\n",
    "    X = Y = W = H = 0\n",
    "    for (x, y, w, h) in faces:\n",
    "        if w * h > area:\n",
    "            area = w * h\n",
    "            X, Y, W, H = x, y, w, h\n",
    "    cv2.rectangle(frame, (X, Y), (X + W, Y + H), colour, fill)"
   ]
  },
  {
   "cell_type": "code",
   "execution_count": 8,
   "metadata": {},
   "outputs": [],
   "source": [
    "#saved the data in an excel file\n",
    "def record_coordonate(list_coordonate, label, numvid, dict_coordonate):\n",
    "    key_second = label+'_'+ str(numvid)\n",
    "    dict_coordonate[label] = {} if dict_coordonate.get(label) is None else dict_coordonate\n",
    "    #dict_coordonate if key_second in dict_coordonate[label] else dict_coordonate[label][key_second] = []\n",
    "    if key_second not in dict_coordonate[label]:\n",
    "        dict_coordonate[label][key_second] = []\n",
    "    for cor in list_coordonate:\n",
    "        dict_coordonate[label][key_second].append(cor)\n",
    "    return dict_coordonate"
   ]
  },
  {
   "cell_type": "code",
   "execution_count": 9,
   "metadata": {
    "scrolled": true
   },
   "outputs": [],
   "source": [
    "def videoCapture(labels,  dict_coordonate, createData = False):\n",
    "    hist = focusBox()\n",
    "    if createData == True:\n",
    "        list_coordonate = []\n",
    "        cap = cv2.VideoCapture(0)\n",
    "        fourcc = cv2.VideoWriter_fourcc(*'XVID')\n",
    "        capture_duration = 4 + 3\n",
    "        num_video = 2\n",
    "        for label in labels: \n",
    "            print('collecting for {}'.format(label))\n",
    "            save_path = \"path\".format(label)\n",
    "            for numvid in range(num_video):\n",
    "                start_time = time.time()\n",
    "                file_name = label + '_' + str(numvid)+'.mp4'\n",
    "                save_path = save_path + file_name\n",
    "                print(save_path)\n",
    "                out = cv2.VideoWriter(save_path,fourcc, 20.0, (640,480))\n",
    "                count = 0 \n",
    "                while(int(time.time() - start_time) < capture_duration ):\n",
    "                    re,frames = cap.read()\n",
    "                    hand = detect_hand(frames, hist)\n",
    "                    if re == True:\n",
    "                        frames = detect_face(frames, block=True)\n",
    "                        frames = hand.draw_outline()\n",
    "                        com = hand.get_center_of_mass()\n",
    "                        if com:\n",
    "                            frames = cv2.circle(hand.outline , com, 10, (255, 0, 0), -1)\n",
    "                        list_coordonate.append(com)\n",
    "                        cv2.imshow('frame', frames)\n",
    "                        out.write(frames)\n",
    "                        count += 1 \n",
    "                        k = cv2.waitKey(5)\n",
    "                        # Press 'q' to exit\n",
    "                        if k == ord('q'):\n",
    "                            break \n",
    "                    else:\n",
    "                        break\n",
    "                if save_path:\n",
    "                    save_path = save_path.rpartition('\\\\')[0]+save_path.rpartition('\\\\')[1]\n",
    "                dict_coordonate = record_coordonate(list_coordonate, label, numvid, dict_coordonate)\n",
    "        # When everything done, release the capture\n",
    "        cap.release()\n",
    "        out.release()\n",
    "        cv2.destroyAllWindows()\n",
    "    else:\n",
    "        pass \n",
    "    return dict_coordonate"
   ]
  },
  {
   "cell_type": "code",
   "execution_count": 10,
   "metadata": {
    "scrolled": false
   },
   "outputs": [
    {
     "name": "stdout",
     "output_type": "stream",
     "text": [
      "collecting for Lundi\n",
      "pathLundi_0.mp4\n",
      "Lundi_1.mp4\n"
     ]
    }
   ],
   "source": [
    "dict_coordonate = videoCapture(labels, dict_coordonate, createData = True)"
   ]
  },
  {
   "cell_type": "code",
   "execution_count": 11,
   "metadata": {},
   "outputs": [],
   "source": [
    "#convert coordonates to vector \n",
    "def convertVector():\n",
    "    pass"
   ]
  },
  {
   "cell_type": "code",
   "execution_count": null,
   "metadata": {},
   "outputs": [],
   "source": []
  },
  {
   "cell_type": "code",
   "execution_count": null,
   "metadata": {},
   "outputs": [],
   "source": []
  }
 ],
 "metadata": {
  "kernelspec": {
   "display_name": "Python 3",
   "language": "python",
   "name": "python3"
  },
  "language_info": {
   "codemirror_mode": {
    "name": "ipython",
    "version": 3
   },
   "file_extension": ".py",
   "mimetype": "text/x-python",
   "name": "python",
   "nbconvert_exporter": "python",
   "pygments_lexer": "ipython3",
   "version": "3.7.6"
  }
 },
 "nbformat": 4,
 "nbformat_minor": 4
}
