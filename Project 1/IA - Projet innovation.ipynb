{
 "cells": [
  {
   "cell_type": "code",
   "execution_count": 1,
   "metadata": {
    "scrolled": true
   },
   "outputs": [
    {
     "name": "stdout",
     "output_type": "stream",
     "text": [
      "    NameMouv  SerieID   X1   Y1   X2  Y2   X3   Y3  Vector_X1  Vector_Y1  \\\n",
      "0          1        1  476  145  528  58  550  157      -13.0      -12.0   \n",
      "1          1        2  465  141  520  42  546  151      -11.0       -4.0   \n",
      "2          1        3  457  138  512  36  543  148       -8.0       -3.0   \n",
      "3          1        4  452  137  508  31  541  146       -5.0       -1.0   \n",
      "4          1        5  450  137  506  30  540  146       -2.0        0.0   \n",
      "..       ...      ...  ...  ...  ...  ..  ...  ...        ...        ...   \n",
      "302        1       25  413  205  448  88  514  178        0.0        0.0   \n",
      "303        1       26  420  207  455  92  518  179        7.0        2.0   \n",
      "304        1       27  437  209  473  94  527  178       17.0        2.0   \n",
      "305        1       28  456  205  494  91  536  175       19.0       -4.0   \n",
      "306        1       29  465  203  504  89  541  174        9.0       -2.0   \n",
      "\n",
      "     Vector_X2  Vector_Y2  Vector_X3  Vector_Y3  \n",
      "0         -9.0      -25.0       -4.0      -11.0  \n",
      "1         -8.0      -16.0       -4.0       -6.0  \n",
      "2         -8.0       -6.0       -3.0       -3.0  \n",
      "3         -4.0       -5.0       -2.0       -2.0  \n",
      "4         -2.0       -1.0       -1.0        0.0  \n",
      "..         ...        ...        ...        ...  \n",
      "302        0.0        0.0        0.0        0.0  \n",
      "303        7.0        4.0        4.0        1.0  \n",
      "304       18.0        2.0        9.0       -1.0  \n",
      "305       21.0       -3.0        9.0       -3.0  \n",
      "306       10.0       -2.0        5.0       -1.0  \n",
      "\n",
      "[307 rows x 14 columns]\n"
     ]
    }
   ],
   "source": [
    "import numpy as np\n",
    "import pandas as pd\n",
    "import os\n",
    "import matplotlib.pyplot as plt\n",
    "\n",
    "np.random.seed(42)\n",
    "\n",
    "def load_data(DataSet):\n",
    "    return pd.read_excel(DataSet, dtype={'NameMouv' : str, \n",
    "                  'SerieID' : int ,'X1': int, 'Y1': int,'X2': int, 'Y2': int ,'X3': int, 'Y3': int, \n",
    "                  \"Vector_X1\": float,'Vector_Y1': float,'Vector_X2': float,'Vector_Y2': float,'Vector_X3': float,'Vector_Y3': float})\n",
    "\n",
    "global_data = load_data('DataSet.xlsx')\n",
    "test = load_data('Lundi.xlsx')\n",
    "print(global_data)"
   ]
  },
  {
   "cell_type": "code",
   "execution_count": 2,
   "metadata": {},
   "outputs": [
    {
     "name": "stdout",
     "output_type": "stream",
     "text": [
      "['SerieID', 'X1', 'Y1', 'X2', 'Y2', 'X3', 'Y3', 'Vector_X1', 'Vector_Y1', 'Vector_X2', 'Vector_Y2', 'Vector_X3', 'Vector_Y3']\n"
     ]
    }
   ],
   "source": [
    "from sklearn.model_selection import StratifiedShuffleSplit\n",
    "from sklearn.preprocessing import StandardScaler\n",
    "from sklearn.pipeline import Pipeline\n",
    "from sklearn.impute import SimpleImputer\n",
    "from sklearn.compose import ColumnTransformer\n",
    "from sklearn.model_selection import cross_val_score\n",
    "from sklearn.model_selection import cross_val_predict\n",
    "from sklearn.preprocessing import OneHotEncoder\n",
    "from sklearn.metrics import roc_curve\n",
    "from sklearn.metrics import precision_recall_curve\n",
    "\n",
    "\n",
    "train_data = global_data.drop(\"NameMouv\", axis=1)\n",
    "train_label = global_data[\"NameMouv\"].copy()\n",
    "test_data = test.drop(\"NameMouv\", axis=1)\n",
    "test_label = test[\"NameMouv\"].copy()\n",
    "train_data = train_data.sort_index()\n",
    "train_label = train_label.sort_index()\n",
    "test_data = test_data.sort_index()\n",
    "test_label = test_label.sort_index()\n",
    "\n",
    "#train_data, train_label, test_data, test_label = splitData(global_data)\n",
    "num_attribs = list(train_data.select_dtypes(include=[np.number]))\n",
    "print(num_attribs)\n",
    "num_pipeline = Pipeline([\n",
    "        ('imputer', SimpleImputer(strategy=\"median\")),\n",
    "        ('std_scaler', StandardScaler()),\n",
    "    ])\n",
    "\n",
    "full_pipeline = ColumnTransformer([\n",
    "        (\"num\", num_pipeline, num_attribs),\n",
    "    ])\n",
    "\n"
   ]
  },
  {
   "cell_type": "code",
   "execution_count": 3,
   "metadata": {
    "scrolled": true
   },
   "outputs": [],
   "source": [
    "train_data_transformed = full_pipeline.fit_transform(train_data)\n",
    "test_data_transformed = full_pipeline.fit_transform(test_data)\n",
    "train_data_prepared = pd.DataFrame(train_data_transformed, columns= num_attribs)\n",
    "test_data_prepared = pd.DataFrame(test_data_transformed, columns= num_attribs)\n",
    "#print(df_train_label)"
   ]
  },
  {
   "cell_type": "code",
   "execution_count": 4,
   "metadata": {},
   "outputs": [],
   "source": [
    "def plot_precision_recall_vs_threshold(precisions, recalls, thresholds):\n",
    "    plt.plot(thresholds, precisions[:-1], \"b-\", label=\"Precision\", linewidth=2)\n",
    "    plt.plot(thresholds, recalls[:-1], \"g-\", label=\"Recall\", linewidth=2)\n",
    "    plt.xlabel(\"Threshold\", fontsize=16)\n",
    "    plt.legend(loc=\"upper left\", fontsize=16)\n",
    "    plt.ylim([0, 1])\n",
    "\n",
    "def plot_roc_curve(fpr, tpr, label=None):\n",
    "    plt.plot(fpr, tpr, linewidth=2, label=label)\n",
    "    plt.plot([0, 1], [0, 1], 'k--')\n",
    "    plt.axis([0, 1, 0, 1])\n",
    "    plt.xlabel('False Positive Rate', fontsize=16)\n",
    "    plt.ylabel('True Positive Rate', fontsize=16)\n",
    "\n",
    "    \n",
    "def calc_and_print_curves(model, X_data, Y_data):\n",
    "    cross_val_score(model, train_data_prepared, X_data, cv=5, scoring=\"accuracy\")\n",
    "    y_scores = cross_val_predict(model, X_data, Y_data, cv=3,\n",
    "                                 method=\"decision_function\")\n",
    "    precisions, recalls, thresholds = precision_recall_curve(Y_data, y_scores)\n",
    "\n",
    "    fpr, tpr, thresholds = roc_curve(Y_data, y_scores)\n",
    "    plt.figure(figsize=(8, 6))\n",
    "    plot_roc_curve(fpr, tpr)\n",
    "    plt.show()\n",
    "    \n",
    "    precisions, recalls, thresholds = precision_recall_curve(Y_data, y_scores)\n",
    "\n",
    "    plt.figure(figsize=(8, 4))\n",
    "    plot_precision_recall_vs_threshold(precisions, recalls, thresholds)\n",
    "    plt.xlim([-10, 7.5])\n",
    "    plt.show()"
   ]
  },
  {
   "cell_type": "code",
   "execution_count": 5,
   "metadata": {
    "scrolled": true
   },
   "outputs": [],
   "source": [
    "models = []"
   ]
  },
  {
   "cell_type": "code",
   "execution_count": 6,
   "metadata": {},
   "outputs": [],
   "source": [
    "from sklearn.ensemble import RandomForestClassifier\n",
    "from sklearn.metrics import mean_squared_error\n",
    "from sklearn import  metrics\n",
    "\n",
    "forest_clf = RandomForestClassifier(random_state=42, n_estimators=1)\n",
    "forest_clf.fit(train_data_prepared, train_label)\n",
    "forest_clf_predictions = forest_clf.predict(test_data_prepared)\n",
    "\n",
    "forest_clf_mse = mean_squared_error(train_label, forest_clf.predict(train_data_prepared))\n",
    "forest_clf_rmse = np.sqrt(forest_clf_mse)"
   ]
  },
  {
   "cell_type": "code",
   "execution_count": 7,
   "metadata": {},
   "outputs": [
    {
     "name": "stdout",
     "output_type": "stream",
     "text": [
      "Lundi 0.6129032258064516%\n",
      "Mardi 0.3870967741935484%\n",
      "0.026058631921824105\n",
      "0.16142686245425233\n"
     ]
    }
   ],
   "source": [
    "test = list(forest_clf_predictions)\n",
    "lundi = list(forest_clf_predictions).count('1')\n",
    "mardi = list(forest_clf_predictions).count('2')\n",
    "meanLundi = lundi/ len(forest_clf_predictions)\n",
    "meanMardi = mardi/ len (forest_clf_predictions)\n",
    "\n",
    "print('Lundi '+str(meanLundi)+'%')\n",
    "print('Mardi '+str(meanMardi)+'%')\n",
    "print(forest_clf_mse)\n",
    "print(forest_clf_rmse)"
   ]
  },
  {
   "cell_type": "code",
   "execution_count": 8,
   "metadata": {},
   "outputs": [
    {
     "name": "stderr",
     "output_type": "stream",
     "text": [
      "D:\\Anaconda\\lib\\site-packages\\sklearn\\svm\\_base.py:231: ConvergenceWarning: Solver terminated early (max_iter=2).  Consider pre-processing your data with StandardScaler or MinMaxScaler.\n",
      "  % self.max_iter, ConvergenceWarning)\n"
     ]
    }
   ],
   "source": [
    "from sklearn.svm import SVC\n",
    "svc_reg = SVC(kernel = 'rbf', max_iter=2)\n",
    "svc_reg.fit(train_data_prepared, train_label)\n",
    "svc_predictions = svc_reg.predict(test_data_prepared)\n",
    "svc_reg_mse = mean_squared_error(train_label, svc_reg.predict(train_data_prepared))\n",
    "svc_reg_rmse = np.sqrt(forest_clf_mse)"
   ]
  },
  {
   "cell_type": "code",
   "execution_count": null,
   "metadata": {},
   "outputs": [],
   "source": []
  },
  {
   "cell_type": "code",
   "execution_count": 9,
   "metadata": {},
   "outputs": [
    {
     "name": "stdout",
     "output_type": "stream",
     "text": [
      "['1' '1' '1' '2' '2' '2' '2' '2' '2' '2' '2' '2' '2' '2' '2' '2' '2' '2'\n",
      " '2' '2' '2' '2' '1' '1' '1' '1' '1' '1' '1' '1' '1']\n",
      "Lundi 0.3870967741935484%\n",
      "Mardi 0.6129032258064516%\n",
      "0.16142686245425233\n"
     ]
    }
   ],
   "source": [
    "print(svc_predictions)\n",
    "reslundi = list(svc_predictions).count('1')\n",
    "resmardi = list(svc_predictions).count('2')\n",
    "resmeanLundi = reslundi/ len(svc_predictions)\n",
    "resmeanMardi = resmardi/ len (svc_predictions)\n",
    "\n",
    "print('Lundi '+str(resmeanLundi)+'%')\n",
    "print('Mardi '+str(resmeanMardi)+'%')\n",
    "print(svc_reg_rmse)"
   ]
  },
  {
   "cell_type": "code",
   "execution_count": 10,
   "metadata": {},
   "outputs": [
    {
     "name": "stdout",
     "output_type": "stream",
     "text": [
      "['1' '1' '1' '1' '1' '1' '1' '1' '1' '2' '2' '2' '2' '2' '2' '2' '2' '1'\n",
      " '1' '1' '1' '1' '1' '1' '1' '2' '2' '1' '1' '1' '2']\n",
      "Lundi 0.6451612903225806%\n",
      "Mardi 0.3548387096774194%\n",
      "0.05707301455353496\n"
     ]
    }
   ],
   "source": [
    "from sklearn.neighbors import KNeighborsClassifier\n",
    "\n",
    "knn = KNeighborsClassifier(n_neighbors=3)\n",
    "\n",
    "knn.fit(train_data_prepared, train_label)\n",
    "knn_predictions = knn.predict(test_data_prepared)\n",
    "knn_mse = mean_squared_error(train_label, knn.predict(train_data_prepared))\n",
    "knn_rmse = np.sqrt(knn_mse)\n",
    "\n",
    "print(knn_predictions)\n",
    "knnlundi = list(knn_predictions).count('1')\n",
    "knnmardi = list(knn_predictions).count('2')\n",
    "knnmeanLundi = knnlundi/ len(knn_predictions)\n",
    "knnmeanMardi = knnmardi/ len (knn_predictions)\n",
    "\n",
    "print('Lundi '+str(knnmeanLundi)+'%')\n",
    "print('Mardi '+str(knnmeanMardi)+'%')\n",
    "\n",
    "print(knn_rmse)"
   ]
  },
  {
   "cell_type": "code",
   "execution_count": null,
   "metadata": {},
   "outputs": [],
   "source": []
  },
  {
   "cell_type": "code",
   "execution_count": null,
   "metadata": {},
   "outputs": [],
   "source": []
  },
  {
   "cell_type": "code",
   "execution_count": null,
   "metadata": {},
   "outputs": [],
   "source": []
  }
 ],
 "metadata": {
  "kernelspec": {
   "display_name": "Python 3",
   "language": "python",
   "name": "python3"
  },
  "language_info": {
   "codemirror_mode": {
    "name": "ipython",
    "version": 3
   },
   "file_extension": ".py",
   "mimetype": "text/x-python",
   "name": "python",
   "nbconvert_exporter": "python",
   "pygments_lexer": "ipython3",
   "version": "3.7.6"
  }
 },
 "nbformat": 4,
 "nbformat_minor": 4
}
